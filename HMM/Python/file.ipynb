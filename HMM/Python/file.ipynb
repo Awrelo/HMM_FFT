{
  "cells": [
    {
      "cell_type": "code",
      "execution_count": 1,
      "metadata": {
        "id": "P6pjyCIT-g8t"
      },
      "outputs": [],
      "source": [
        "%%capture\n",
        "\n",
        "! pip install numpy\n",
        "! pip install matplotlib\n",
        "! pip install librosa\n",
        "\n",
        "# for the use of hmm\n",
        "!pip install hmmlearn\n",
        "!pip install features"
      ]
    },
    {
      "cell_type": "code",
      "source": [],
      "metadata": {
        "id": "OvrT-z8A_VFN"
      },
      "execution_count": null,
      "outputs": []
    },
    {
      "cell_type": "code",
      "source": [
        "from google.colab import drive\n",
        "drive.mount('/content/drive')"
      ],
      "metadata": {
        "colab": {
          "base_uri": "https://localhost:8080/"
        },
        "id": "ncC0QqtwBVTn",
        "outputId": "b9eaf8a8-4730-4ca2-c2f7-11df18723287"
      },
      "execution_count": 2,
      "outputs": [
        {
          "output_type": "stream",
          "name": "stdout",
          "text": [
            "Mounted at /content/drive\n"
          ]
        }
      ]
    },
    {
      "cell_type": "code",
      "source": [
        "! unzip /content/drive/MyDrive/oily_rag.zip"
      ],
      "metadata": {
        "colab": {
          "base_uri": "https://localhost:8080/"
        },
        "id": "fOlXPf-BBaoD",
        "outputId": "49d88421-ae9a-4cbd-c7fa-6ad1c14fb539"
      },
      "execution_count": 3,
      "outputs": [
        {
          "output_type": "stream",
          "name": "stdout",
          "text": [
            "Archive:  /content/drive/MyDrive/oily_rag.zip\n",
            "   creating: oily_rag/\n",
            "  inflating: oily_rag/SA2.WAV.wav    \n"
          ]
        }
      ]
    },
    {
      "cell_type": "code",
      "source": [
        "import numpy as np\n",
        "from matplotlib import pyplot as plt\n",
        "%matplotlib inline\n",
        "from scipy.io import wavfile"
      ],
      "metadata": {
        "id": "TON2AQDUBnyU"
      },
      "execution_count": 7,
      "outputs": []
    },
    {
      "cell_type": "code",
      "source": [
        "# load the sample file\n",
        "sampling_freq, audio = wavfile.read('/content/oily_rag/SA2.WAV.wav')\n",
        "print('\\nShape:', audio.shape)\n",
        "print('\\nDatatype: ', audio.dtype)\n",
        "print('\\nDuration: ', round(audio.shape[0]/float(sampling_freq), 3), 'seconds')"
      ],
      "metadata": {
        "colab": {
          "base_uri": "https://localhost:8080/"
        },
        "id": "3Dz5obftCV5p",
        "outputId": "4db2fc9c-1b21-4738-8574-8bcbd1d27dc8"
      },
      "execution_count": 9,
      "outputs": [
        {
          "output_type": "stream",
          "name": "stdout",
          "text": [
            "\n",
            "Shape: (32154,)\n",
            "\n",
            "Datatype:  int16\n",
            "\n",
            "Duration:  2.01 seconds\n"
          ]
        }
      ]
    },
    {
      "cell_type": "code",
      "source": [
        "# normalize audio data and plot the sample data on the time axis\n",
        "audio = audio/2.**15\n",
        "audio = audio[:30] # get the first 30 elements of the array created\n",
        "\n",
        "x_values = np.arange(0, len(audio), 1)/ float(sampling_freq)"
      ],
      "metadata": {
        "id": "dtcLbNp7C_Ck"
      },
      "execution_count": 15,
      "outputs": []
    },
    {
      "cell_type": "code",
      "source": [
        "plt.plot(x_values*1000, audio, color=\"blue\")\n",
        "plt.xlabel('Time (ms)')\n",
        "plt.ylabel('Amplitude')\n",
        "plt.title('Audio Signal')\n",
        "plt.show()"
      ],
      "metadata": {
        "colab": {
          "base_uri": "https://localhost:8080/",
          "height": 295
        },
        "id": "j374cA7CDiXD",
        "outputId": "090d89ea-9f19-4b99-cc62-f69a0283f936"
      },
      "execution_count": 22,
      "outputs": [
        {
          "output_type": "display_data",
          "data": {
            "text/plain": [
              "<Figure size 432x288 with 1 Axes>"
            ],
            "image/png": "[encoded data removed]"
          },
          "metadata": {
            "needs_background": "light"
          }
        }
      ]
    },
    {
      "cell_type": "markdown",
      "source": [
        "* The above signal is in **time domain**\n",
        "* `use simple fourier transform to transform it to frequency domain`"
      ],
      "metadata": {
        "id": "B_dt-C-AD2vn"
      }
    },
    {
      "cell_type": "code",
      "source": [
        "audio"
      ],
      "metadata": {
        "colab": {
          "base_uri": "https://localhost:8080/"
        },
        "id": "sQFde2hkDJ13",
        "outputId": "62452c96-d235-4b79-f54a-ea73b1cd7aaf"
      },
      "execution_count": 14,
      "outputs": [
        {
          "output_type": "execute_result",
          "data": {
            "text/plain": [
              "array([ 1.42108547e-13,  1.42108547e-13,  1.42108547e-13,  1.42108547e-13,\n",
              "        1.42108547e-13,  1.42108547e-13,  1.42108547e-13,  8.52651283e-14,\n",
              "        8.52651283e-14, -2.84217094e-14,  0.00000000e+00, -5.68434189e-14,\n",
              "       -8.52651283e-14, -2.84217094e-14,  0.00000000e+00,  8.52651283e-14,\n",
              "        1.70530257e-13,  1.42108547e-13,  1.42108547e-13,  1.42108547e-13,\n",
              "        1.42108547e-13,  1.42108547e-13,  1.42108547e-13,  1.70530257e-13,\n",
              "        1.42108547e-13,  1.42108547e-13,  8.52651283e-14,  1.13686838e-13,\n",
              "        1.70530257e-13,  1.13686838e-13])"
            ]
          },
          "metadata": {},
          "execution_count": 14
        }
      ]
    },
    {
      "cell_type": "markdown",
      "source": [
        "#### A Fourie Transform:\n",
        "1. Breaks a `signal/function/waveform` into alternate representation, characterized by `Sines and Cosines`\n",
        "\n",
        "2. Fourier gives us a viewing ability of all things that can be represented in a waveform -> Basicalty Everything."
      ],
      "metadata": {
        "id": "tUhrSIFfERlM"
      }
    },
    {
      "cell_type": "code",
      "source": [
        "transformed_signal = np.fft.fft(audio)"
      ],
      "metadata": {
        "id": "ZyNWJQiSDzKH"
      },
      "execution_count": 17,
      "outputs": []
    },
    {
      "cell_type": "code",
      "source": [
        "transformed_signal # forms an array of Real and Im ele1ments - Complex Numbers."
      ],
      "metadata": {
        "colab": {
          "base_uri": "https://localhost:8080/"
        },
        "id": "0EAMXLquFCO_",
        "outputId": "73de71a3-5a9f-44be-aba9-cc939b09b939"
      },
      "execution_count": 20,
      "outputs": [
        {
          "output_type": "execute_result",
          "data": {
            "text/plain": [
              "array([ 9.19403442e-17+0.00000000e+00j,  2.15076771e-17+2.31811197e-17j,\n",
              "       -1.27088646e-18-2.75144605e-17j, -8.48379782e-18+9.46348005e-18j,\n",
              "        7.95087286e-18-3.43801015e-18j, -4.33680869e-19+5.25810110e-18j,\n",
              "        4.96954055e-19-7.50527942e-19j, -4.46871018e-18+1.62892867e-18j,\n",
              "       -1.94546775e-18-2.22892562e-18j,  2.43861311e-19-1.28876181e-18j,\n",
              "       -3.03576608e-18-3.75578650e-18j,  3.01308145e-18+1.08477025e-18j,\n",
              "        3.40617377e-18-6.16383992e-18j, -1.02728391e-19+3.11755425e-19j,\n",
              "        4.69651775e-19+3.77065697e-18j,  3.46944695e-18-1.54074396e-33j,\n",
              "        4.69651775e-19-3.77065697e-18j, -1.02728391e-19-3.11755425e-19j,\n",
              "        3.40617377e-18+6.16383992e-18j,  3.01308145e-18-1.08477025e-18j,\n",
              "       -3.03576608e-18+3.75578650e-18j,  2.43861311e-19+1.28876181e-18j,\n",
              "       -1.94546775e-18+2.22892562e-18j, -4.46871018e-18-1.62892867e-18j,\n",
              "        4.96954055e-19+7.50527942e-19j, -4.33680869e-19-5.25810110e-18j,\n",
              "        7.95087286e-18+3.43801015e-18j, -8.48379782e-18-9.46348005e-18j,\n",
              "       -1.27088646e-18+2.75144605e-17j,  2.15076771e-17-2.31811197e-17j])"
            ]
          },
          "metadata": {},
          "execution_count": 20
        }
      ]
    },
    {
      "cell_type": "code",
      "source": [
        "len_audio = 2.01\n",
        "half_length = np.ceil((len_audio + 1)/ 2.0)\n",
        "half_length = int(half_length)\n",
        "transformed_signal = abs(transformed_signal[0:half_length]) # only get the Real part.\n",
        "transformed_signal **=2\n",
        "\n",
        "transformed_signal, half_length"
      ],
      "metadata": {
        "colab": {
          "base_uri": "https://localhost:8080/"
        },
        "id": "K2jlYflZFN37",
        "outputId": "d419c6d1-6a8a-4fad-8465-15fc9297d466"
      },
      "execution_count": 26,
      "outputs": [
        {
          "output_type": "execute_result",
          "data": {
            "text/plain": [
              "(array([7.14536637e-65, 9.99888975e-67]), 2)"
            ]
          },
          "metadata": {},
          "execution_count": 26
        }
      ]
    }
  ],
  "metadata": {
    "kernelspec": {
      "display_name": "TensorFlow",
      "language": "python",
      "name": "python3"
    },
    "language_info": {
      "name": "python",
      "version": "3.10.8 (main, Nov 24 2022, 14:13:03) [GCC 11.2.0]"
    },
    "orig_nbformat": 4,
    "vscode": {
      "interpreter": {
        "hash": "45c48fb264bba0529b917885aa2fdf54bfc5ac58ac8ea30a57d1df6ad7c47fba"
      }
    },
    "colab": {
      "provenance": []
    }
  },
  "nbformat": 4,
  "nbformat_minor": 0
}