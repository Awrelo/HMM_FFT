{
 "cells": [
  {
   "attachments": {},
   "cell_type": "markdown",
   "metadata": {},
   "source": [
    "* import the Prob_Vector and use the class ProbabilityVector"
   ]
  },
  {
   "cell_type": "code",
   "execution_count": 1,
   "metadata": {},
   "outputs": [],
   "source": [
    "from Prob_Vector import ProbabilityVector"
   ]
  },
  {
   "cell_type": "code",
   "execution_count": 2,
   "metadata": {},
   "outputs": [],
   "source": [
    "a1 = ProbabilityVector({'rain': 0.7, 'sun':0.3})\n",
    "a2 = ProbabilityVector({'sun': 0.1, 'rain': 0.9})\n",
    "# a2 = ProbabilityVector({'sun': 0.3, 'rain': 0.7})"
   ]
  },
  {
   "attachments": {},
   "cell_type": "markdown",
   "metadata": {},
   "source": [
    "* B - a method to request the values: in df format"
   ]
  },
  {
   "cell_type": "code",
   "execution_count": 3,
   "metadata": {},
   "outputs": [],
   "source": [
    "# import pandas as pd \n",
    "# def df(self):\n",
    "#     return pd.DataFrame(self.values, columns=self.states, index=['Probability'])\n",
    "    "
   ]
  },
  {
   "cell_type": "code",
   "execution_count": 4,
   "metadata": {},
   "outputs": [
    {
     "name": "stdout",
     "output_type": "stream",
     "text": [
      "             rain  sun\n",
      "probability   0.7  0.3\n",
      "             rain  sun\n",
      "probability   0.9  0.1\n"
     ]
    }
   ],
   "source": [
    "print(a1.df)\n",
    "print(a2.df)"
   ]
  },
  {
   "attachments": {},
   "cell_type": "markdown",
   "metadata": {},
   "source": [
    "* test to satisfy the other mathematical ops"
   ]
  },
  {
   "cell_type": "code",
   "execution_count": 5,
   "metadata": {},
   "outputs": [
    {
     "name": "stdout",
     "output_type": "stream",
     "text": [
      "Comparison: False\n"
     ]
    }
   ],
   "source": [
    "# test the comparison object __eq__\n",
    "\n",
    "def __eq__(self, other):\n",
    "    if not isinstance(other, ProbabilityVector):\n",
    "        raise NotImplementedError\n",
    "    if (self.states == other.states) and (self.values == other.value).all():\n",
    "        return True\n",
    "    return False\n",
    "\n",
    "print(\"Comparison:\", a1==a2)"
   ]
  },
  {
   "cell_type": "code",
   "execution_count": 6,
   "metadata": {},
   "outputs": [
    {
     "data": {
      "text/plain": [
       "array([[0.63, 0.03]])"
      ]
     },
     "execution_count": 6,
     "metadata": {},
     "output_type": "execute_result"
    }
   ],
   "source": [
    "# Element wise multiplication\n",
    "a1*a2"
   ]
  },
  {
   "cell_type": "code",
   "execution_count": 8,
   "metadata": {},
   "outputs": [
    {
     "name": "stdout",
     "output_type": "stream",
     "text": [
      "Argmax:  rain\n"
     ]
    }
   ],
   "source": [
    "# Argmax : Max argument - return index of max values\n",
    "print(\"Argmax: \", a1.argmax())"
   ]
  },
  {
   "cell_type": "code",
   "execution_count": 9,
   "metadata": {},
   "outputs": [
    {
     "name": "stdout",
     "output_type": "stream",
     "text": [
      "Item: 0.7\n"
     ]
    }
   ],
   "source": [
    "# get the item\n",
    "print(\"Item:\", a1['rain'] )"
   ]
  }
 ],
 "metadata": {
  "kernelspec": {
   "display_name": "TensorFlow",
   "language": "python",
   "name": "python3"
  },
  "language_info": {
   "codemirror_mode": {
    "name": "ipython",
    "version": 3
   },
   "file_extension": ".py",
   "mimetype": "text/x-python",
   "name": "python",
   "nbconvert_exporter": "python",
   "pygments_lexer": "ipython3",
   "version": "3.10.8"
  },
  "orig_nbformat": 4,
  "vscode": {
   "interpreter": {
    "hash": "45c48fb264bba0529b917885aa2fdf54bfc5ac58ac8ea30a57d1df6ad7c47fba"
   }
  }
 },
 "nbformat": 4,
 "nbformat_minor": 2
}
