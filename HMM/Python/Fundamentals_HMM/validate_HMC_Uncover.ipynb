{
 "cells": [
  {
   "cell_type": "code",
   "execution_count": 1,
   "metadata": {},
   "outputs": [],
   "source": [
    "import compute_score\n",
    "from compute_score import HiddenMarkovChain_Uncover\n",
    "\n",
    "import numpy as np"
   ]
  },
  {
   "cell_type": "code",
   "execution_count": 2,
   "metadata": {},
   "outputs": [],
   "source": [
    "from Prob_Matrix import ProbabilityMatrix, ProbabilityVector\n",
    "# from Prob_Vector import ProbabilityVector\n",
    "from compute_score import HiddenMarkovChain\n",
    "from compute_score import HiddenMarkovChain_Simulation\n",
    "from compute_score import HiddenMarkovLayer, HiddenMarkovModel"
   ]
  },
  {
   "cell_type": "code",
   "execution_count": 3,
   "metadata": {},
   "outputs": [],
   "source": [
    "a1 = ProbabilityVector({'1H': 0.7, '2C':0.3})\n",
    "a2 = ProbabilityVector({'1H':0.4, '2C':0.6})\n",
    "\n",
    "b1 = ProbabilityVector({'1S':0.1, '2M':0.4, '3L':0.5})\n",
    "b2 = ProbabilityVector({'1S':0.7, '2M':0.2, '3L':0.1})\n",
    "\n",
    "A = ProbabilityMatrix({'1H':a1, '2C':a2})\n",
    "B = ProbabilityMatrix({'1H':b1, '2C':b2})\n",
    "pi = ProbabilityVector({'1H':0.6, '2C':0.4})"
   ]
  },
  {
   "cell_type": "code",
   "execution_count": 4,
   "metadata": {},
   "outputs": [],
   "source": [
    "np.random.seed(42)\n",
    "hmc = HiddenMarkovChain_Uncover(A, B, pi)\n",
    "\n",
    "observed_sequence, latent_sequence = hmc.run(5)\n",
    "uncovered_sequence = hmc.uncover(observed_sequence)"
   ]
  },
  {
   "cell_type": "code",
   "execution_count": 5,
   "metadata": {},
   "outputs": [
    {
     "data": {
      "text/plain": [
       "['3L', '2M', '1S', '3L', '3L', '3L']"
      ]
     },
     "execution_count": 5,
     "metadata": {},
     "output_type": "execute_result"
    }
   ],
   "source": [
    "observed_sequence"
   ]
  },
  {
   "cell_type": "code",
   "execution_count": 6,
   "metadata": {},
   "outputs": [
    {
     "data": {
      "text/plain": [
       "['1H', '2C', '1H', '1H', '2C', '1H']"
      ]
     },
     "execution_count": 6,
     "metadata": {},
     "output_type": "execute_result"
    }
   ],
   "source": [
    "latent_sequence"
   ]
  },
  {
   "cell_type": "code",
   "execution_count": 7,
   "metadata": {},
   "outputs": [
    {
     "data": {
      "text/plain": [
       "['1H', '1H', '1H', '1H', '1H', '1H']"
      ]
     },
     "execution_count": 7,
     "metadata": {},
     "output_type": "execute_result"
    }
   ],
   "source": [
    "uncovered_sequence"
   ]
  },
  {
   "cell_type": "code",
   "execution_count": 8,
   "metadata": {},
   "outputs": [],
   "source": [
    "import pandas as pd \n",
    "from itertools import *"
   ]
  },
  {
   "cell_type": "code",
   "execution_count": 9,
   "metadata": {},
   "outputs": [
    {
     "data": {
      "text/html": [
       "<div>\n",
       "<style scoped>\n",
       "    .dataframe tbody tr th:only-of-type {\n",
       "        vertical-align: middle;\n",
       "    }\n",
       "\n",
       "    .dataframe tbody tr th {\n",
       "        vertical-align: top;\n",
       "    }\n",
       "\n",
       "    .dataframe thead th {\n",
       "        text-align: right;\n",
       "    }\n",
       "</style>\n",
       "<table border=\"1\" class=\"dataframe\">\n",
       "  <thead>\n",
       "    <tr style=\"text-align: right;\">\n",
       "      <th></th>\n",
       "      <th>index</th>\n",
       "      <th>0</th>\n",
       "      <th>1</th>\n",
       "      <th>2</th>\n",
       "      <th>3</th>\n",
       "      <th>4</th>\n",
       "      <th>5</th>\n",
       "      <th>score</th>\n",
       "    </tr>\n",
       "  </thead>\n",
       "  <tbody>\n",
       "    <tr>\n",
       "      <th>0</th>\n",
       "      <td>8</td>\n",
       "      <td>1H</td>\n",
       "      <td>1H</td>\n",
       "      <td>2C</td>\n",
       "      <td>1H</td>\n",
       "      <td>1H</td>\n",
       "      <td>1H</td>\n",
       "      <td>3.1</td>\n",
       "    </tr>\n",
       "    <tr>\n",
       "      <th>1</th>\n",
       "      <td>24</td>\n",
       "      <td>1H</td>\n",
       "      <td>2C</td>\n",
       "      <td>2C</td>\n",
       "      <td>1H</td>\n",
       "      <td>1H</td>\n",
       "      <td>1H</td>\n",
       "      <td>2.9</td>\n",
       "    </tr>\n",
       "    <tr>\n",
       "      <th>2</th>\n",
       "      <td>40</td>\n",
       "      <td>2C</td>\n",
       "      <td>1H</td>\n",
       "      <td>2C</td>\n",
       "      <td>1H</td>\n",
       "      <td>1H</td>\n",
       "      <td>1H</td>\n",
       "      <td>2.7</td>\n",
       "    </tr>\n",
       "    <tr>\n",
       "      <th>3</th>\n",
       "      <td>10</td>\n",
       "      <td>1H</td>\n",
       "      <td>1H</td>\n",
       "      <td>2C</td>\n",
       "      <td>1H</td>\n",
       "      <td>2C</td>\n",
       "      <td>1H</td>\n",
       "      <td>2.7</td>\n",
       "    </tr>\n",
       "    <tr>\n",
       "      <th>4</th>\n",
       "      <td>9</td>\n",
       "      <td>1H</td>\n",
       "      <td>1H</td>\n",
       "      <td>2C</td>\n",
       "      <td>1H</td>\n",
       "      <td>1H</td>\n",
       "      <td>2C</td>\n",
       "      <td>2.7</td>\n",
       "    </tr>\n",
       "    <tr>\n",
       "      <th>5</th>\n",
       "      <td>12</td>\n",
       "      <td>1H</td>\n",
       "      <td>1H</td>\n",
       "      <td>2C</td>\n",
       "      <td>2C</td>\n",
       "      <td>1H</td>\n",
       "      <td>1H</td>\n",
       "      <td>2.7</td>\n",
       "    </tr>\n",
       "    <tr>\n",
       "      <th>6</th>\n",
       "      <td>0</td>\n",
       "      <td>1H</td>\n",
       "      <td>1H</td>\n",
       "      <td>1H</td>\n",
       "      <td>1H</td>\n",
       "      <td>1H</td>\n",
       "      <td>1H</td>\n",
       "      <td>2.5</td>\n",
       "    </tr>\n",
       "    <tr>\n",
       "      <th>7</th>\n",
       "      <td>56</td>\n",
       "      <td>2C</td>\n",
       "      <td>2C</td>\n",
       "      <td>2C</td>\n",
       "      <td>1H</td>\n",
       "      <td>1H</td>\n",
       "      <td>1H</td>\n",
       "      <td>2.5</td>\n",
       "    </tr>\n",
       "    <tr>\n",
       "      <th>8</th>\n",
       "      <td>26</td>\n",
       "      <td>1H</td>\n",
       "      <td>2C</td>\n",
       "      <td>2C</td>\n",
       "      <td>1H</td>\n",
       "      <td>2C</td>\n",
       "      <td>1H</td>\n",
       "      <td>2.5</td>\n",
       "    </tr>\n",
       "    <tr>\n",
       "      <th>9</th>\n",
       "      <td>28</td>\n",
       "      <td>1H</td>\n",
       "      <td>2C</td>\n",
       "      <td>2C</td>\n",
       "      <td>2C</td>\n",
       "      <td>1H</td>\n",
       "      <td>1H</td>\n",
       "      <td>2.5</td>\n",
       "    </tr>\n",
       "  </tbody>\n",
       "</table>\n",
       "</div>"
      ],
      "text/plain": [
       "   index   0   1   2   3   4   5  score\n",
       "0      8  1H  1H  2C  1H  1H  1H    3.1\n",
       "1     24  1H  2C  2C  1H  1H  1H    2.9\n",
       "2     40  2C  1H  2C  1H  1H  1H    2.7\n",
       "3     10  1H  1H  2C  1H  2C  1H    2.7\n",
       "4      9  1H  1H  2C  1H  1H  2C    2.7\n",
       "5     12  1H  1H  2C  2C  1H  1H    2.7\n",
       "6      0  1H  1H  1H  1H  1H  1H    2.5\n",
       "7     56  2C  2C  2C  1H  1H  1H    2.5\n",
       "8     26  1H  2C  2C  1H  2C  1H    2.5\n",
       "9     28  1H  2C  2C  2C  1H  1H    2.5"
      ]
     },
     "execution_count": 9,
     "metadata": {},
     "output_type": "execute_result"
    }
   ],
   "source": [
    "all_possible_states = {'1H', '2C'}\n",
    "chain_length = 6  # any int > 0\n",
    "all_states_chains = list(product(*(all_possible_states,) * chain_length))\n",
    "\n",
    "df = pd.DataFrame(all_states_chains)\n",
    "dfp = pd.DataFrame()\n",
    "\n",
    "for i in range(chain_length):\n",
    "    dfp['p' + str(i)] = df.apply(lambda x: \n",
    "        hmc.E.df.loc[x[i], observed_sequence[i]], axis=1)\n",
    "\n",
    "scores = dfp.sum(axis=1).sort_values(ascending=False)\n",
    "df = df.iloc[scores.index]\n",
    "df['score'] = scores\n",
    "df.head(10).reset_index()"
   ]
  },
  {
   "cell_type": "code",
   "execution_count": 10,
   "metadata": {},
   "outputs": [
    {
     "data": {
      "text/html": [
       "<div>\n",
       "<style scoped>\n",
       "    .dataframe tbody tr th:only-of-type {\n",
       "        vertical-align: middle;\n",
       "    }\n",
       "\n",
       "    .dataframe tbody tr th {\n",
       "        vertical-align: top;\n",
       "    }\n",
       "\n",
       "    .dataframe thead th {\n",
       "        text-align: right;\n",
       "    }\n",
       "</style>\n",
       "<table border=\"1\" class=\"dataframe\">\n",
       "  <thead>\n",
       "    <tr style=\"text-align: right;\">\n",
       "      <th></th>\n",
       "      <th>index</th>\n",
       "      <th>0</th>\n",
       "      <th>1</th>\n",
       "      <th>2</th>\n",
       "      <th>3</th>\n",
       "      <th>4</th>\n",
       "      <th>5</th>\n",
       "      <th>score</th>\n",
       "    </tr>\n",
       "  </thead>\n",
       "  <tbody>\n",
       "    <tr>\n",
       "      <th>34</th>\n",
       "      <td>18</td>\n",
       "      <td>1H</td>\n",
       "      <td>2C</td>\n",
       "      <td>1H</td>\n",
       "      <td>1H</td>\n",
       "      <td>2C</td>\n",
       "      <td>1H</td>\n",
       "      <td>1.9</td>\n",
       "    </tr>\n",
       "  </tbody>\n",
       "</table>\n",
       "</div>"
      ],
      "text/plain": [
       "    index   0   1   2   3   4   5  score\n",
       "34     18  1H  2C  1H  1H  2C  1H    1.9"
      ]
     },
     "execution_count": 10,
     "metadata": {},
     "output_type": "execute_result"
    }
   ],
   "source": [
    "dfc = df.copy().reset_index()\n",
    "for i in range(chain_length):\n",
    "    dfc = dfc[dfc[i] == latent_sequence[i]]\n",
    "dfc"
   ]
  },
  {
   "cell_type": "code",
   "execution_count": 11,
   "metadata": {},
   "outputs": [],
   "source": [
    "np.random.seed(42)\n",
    "\n",
    "observations = ['3L','2M','1S','3L','3L','3L']\n",
    "states = ['1H', '2C']\n",
    "observables = ['1S','2M','3L']"
   ]
  },
  {
   "cell_type": "code",
   "execution_count": 12,
   "metadata": {},
   "outputs": [
    {
     "name": "stderr",
     "output_type": "stream",
     "text": [
      "/home/ix502iv/Documents/HMM_FFT/HMM/Python/Fundamentals_HMM/compute_score.py:155: RuntimeWarning: invalid value encountered in divide\n",
      "  gamma = alpha*beta/score\n"
     ]
    },
    {
     "ename": "NameError",
     "evalue": "name 'states' is not defined",
     "output_type": "error",
     "traceback": [
      "\u001b[0;31m---------------------------------------------------------------------------\u001b[0m",
      "\u001b[0;31mNameError\u001b[0m                                 Traceback (most recent call last)",
      "Cell \u001b[0;32mIn[12], line 3\u001b[0m\n\u001b[1;32m      1\u001b[0m hml \u001b[39m=\u001b[39m HiddenMarkovLayer\u001b[39m.\u001b[39minitialize(states, observables)\n\u001b[1;32m      2\u001b[0m hmm \u001b[39m=\u001b[39m HiddenMarkovModel(hml)\n\u001b[0;32m----> 3\u001b[0m hmm\u001b[39m.\u001b[39;49mtrain(observations, \u001b[39m25\u001b[39;49m)\n",
      "File \u001b[0;32m~/Documents/HMM_FFT/HMM/Python/Fundamentals_HMM/compute_score.py:177\u001b[0m, in \u001b[0;36mHiddenMarkovModel.train\u001b[0;34m(self, observations, epochs, tol)\u001b[0m\n\u001b[1;32m    174\u001b[0m early_stopping \u001b[39m=\u001b[39m \u001b[39misinstance\u001b[39m(tol, (\u001b[39mint\u001b[39m, \u001b[39mfloat\u001b[39m))\n\u001b[1;32m    176\u001b[0m \u001b[39mfor\u001b[39;00m epoch \u001b[39min\u001b[39;00m \u001b[39mrange\u001b[39m(\u001b[39m1\u001b[39m, epochs\u001b[39m+\u001b[39m\u001b[39m1\u001b[39m):\n\u001b[0;32m--> 177\u001b[0m     score \u001b[39m=\u001b[39m \u001b[39mself\u001b[39;49m\u001b[39m.\u001b[39;49mupdate(observations)\n\u001b[1;32m    179\u001b[0m     \u001b[39mprint\u001b[39m(\u001b[39m\"\u001b[39m\u001b[39mTraining ... epoch = \u001b[39m\u001b[39m{}\u001b[39;00m\u001b[39m out of \u001b[39m\u001b[39m{}\u001b[39;00m\u001b[39m, score = \u001b[39m\u001b[39m{}\u001b[39;00m\u001b[39m\"\u001b[39m\u001b[39m.\u001b[39mformat(epoch, epochs, score))\n\u001b[1;32m    181\u001b[0m     \u001b[39mif\u001b[39;00m early_stopping \u001b[39mand\u001b[39;00m \u001b[39mabs\u001b[39m(\u001b[39mself\u001b[39m\u001b[39m.\u001b[39m_score_init \u001b[39m-\u001b[39m score)\u001b[39m/\u001b[39m score\u001b[39m<\u001b[39mtol:\n",
      "File \u001b[0;32m~/Documents/HMM_FFT/HMM/Python/Fundamentals_HMM/compute_score.py:166\u001b[0m, in \u001b[0;36mHiddenMarkovModel.update\u001b[0;34m(self, observations)\u001b[0m\n\u001b[1;32m    163\u001b[0m T \u001b[39m=\u001b[39m digamma\u001b[39m.\u001b[39msum(axis\u001b[39m=\u001b[39m\u001b[39m0\u001b[39m) \u001b[39m/\u001b[39m gamma[:\u001b[39m-\u001b[39m\u001b[39m1\u001b[39m]\u001b[39m.\u001b[39msum(axis\u001b[39m=\u001b[39m\u001b[39m0\u001b[39m)\u001b[39m.\u001b[39mreshape(\u001b[39m-\u001b[39m\u001b[39m1\u001b[39m,\u001b[39m1\u001b[39m)\n\u001b[1;32m    164\u001b[0m E \u001b[39m=\u001b[39m (capture\u001b[39m*\u001b[39mgamma[:,:,np\u001b[39m.\u001b[39mnewaxis])\u001b[39m.\u001b[39msum(axis\u001b[39m=\u001b[39m\u001b[39m0\u001b[39m)\u001b[39m/\u001b[39mgamma\u001b[39m.\u001b[39msum(axis\u001b[39m=\u001b[39m\u001b[39m0\u001b[39m)\u001b[39m.\u001b[39mreshape(\u001b[39m-\u001b[39m\u001b[39m1\u001b[39m,\u001b[39m1\u001b[39m)\n\u001b[0;32m--> 166\u001b[0m \u001b[39mself\u001b[39m\u001b[39m.\u001b[39mlayer\u001b[39m.\u001b[39mpi \u001b[39m=\u001b[39m ProbabilityVector\u001b[39m.\u001b[39;49mfrom_numpy(pi, \u001b[39mself\u001b[39;49m\u001b[39m.\u001b[39;49mlayer\u001b[39m.\u001b[39;49mstates)\n\u001b[1;32m    167\u001b[0m \u001b[39mself\u001b[39m\u001b[39m.\u001b[39mlayer\u001b[39m.\u001b[39mT \u001b[39m=\u001b[39m ProbabilityMatrix\u001b[39m.\u001b[39mfrom_numpy(T, \u001b[39mself\u001b[39m\u001b[39m.\u001b[39mlayer\u001b[39m.\u001b[39mstates, \u001b[39mself\u001b[39m\u001b[39m.\u001b[39mlayer\u001b[39m.\u001b[39mstates)\n\u001b[1;32m    168\u001b[0m \u001b[39mself\u001b[39m\u001b[39m.\u001b[39mlayer\u001b[39m.\u001b[39mE \u001b[39m=\u001b[39m ProbabilityMatrix\u001b[39m.\u001b[39mfrom_numpy(E, \u001b[39mself\u001b[39m\u001b[39m.\u001b[39mlayer\u001b[39m.\u001b[39mstates, \u001b[39mself\u001b[39m\u001b[39m.\u001b[39mlayer\u001b[39m.\u001b[39mobservables)\n",
      "File \u001b[0;32m~/Documents/HMM_FFT/HMM/Python/Fundamentals_HMM/Prob_Matrix.py:90\u001b[0m, in \u001b[0;36mProbabilityVector.from_numpy\u001b[0;34m(cls, array, state)\u001b[0m\n\u001b[1;32m     88\u001b[0m \u001b[39m@classmethod\u001b[39m\n\u001b[1;32m     89\u001b[0m \u001b[39mdef\u001b[39;00m \u001b[39mfrom_numpy\u001b[39m(\u001b[39mcls\u001b[39m, array: np\u001b[39m.\u001b[39mndarray, state:\u001b[39mlist\u001b[39m):\n\u001b[0;32m---> 90\u001b[0m     \u001b[39mreturn\u001b[39;00m \u001b[39mcls\u001b[39m(\u001b[39mdict\u001b[39m(\u001b[39mzip\u001b[39m(states, \u001b[39mlist\u001b[39m(array))))\n",
      "\u001b[0;31mNameError\u001b[0m: name 'states' is not defined"
     ]
    }
   ],
   "source": [
    "hml = HiddenMarkovLayer.initialize(states, observables)\n",
    "hmm = HiddenMarkovModel(hml)\n",
    "hmm.train(observations, 25)"
   ]
  }
 ],
 "metadata": {
  "kernelspec": {
   "display_name": "TensorFlow",
   "language": "python",
   "name": "python3"
  },
  "language_info": {
   "codemirror_mode": {
    "name": "ipython",
    "version": 3
   },
   "file_extension": ".py",
   "mimetype": "text/x-python",
   "name": "python",
   "nbconvert_exporter": "python",
   "pygments_lexer": "ipython3",
   "version": "3.10.8"
  },
  "orig_nbformat": 4,
  "vscode": {
   "interpreter": {
    "hash": "45c48fb264bba0529b917885aa2fdf54bfc5ac58ac8ea30a57d1df6ad7c47fba"
   }
  }
 },
 "nbformat": 4,
 "nbformat_minor": 2
}
