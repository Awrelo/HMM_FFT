{
 "cells": [
  {
   "cell_type": "code",
   "execution_count": 6,
   "metadata": {},
   "outputs": [],
   "source": [
    "import compute_score\n",
    "from compute_score import HiddenMarkovChain_Uncover\n",
    "\n",
    "import numpy as np"
   ]
  },
  {
   "cell_type": "code",
   "execution_count": 7,
   "metadata": {},
   "outputs": [],
   "source": [
    "a1 = ProbabilityVector({'1H': 0.7, '2C':0.3})\n",
    "a2 = ProbabilityVector({'1H':0.4, '2C':0.6})\n",
    "\n",
    "b1 = ProbabilityVector({'1S':0.1, '2M':0.4, '3L':0.5})\n",
    "b2 = ProbabilityVector({'1S':0.7, '2M':0.2, '3L':0.1})\n",
    "\n",
    "A = ProbabilityMatrix({'1H':a1, '2C':a2})\n",
    "B = ProbabilityMatrix({'1H':b1, '2C':b2})\n",
    "pi = ProbabilityVector({'1H':0.6, '2C':0.4})\n",
    "\n",
    "hmc = HiddenMarkovChain(A,B,pi)"
   ]
  },
  {
   "cell_type": "code",
   "execution_count": 8,
   "metadata": {},
   "outputs": [],
   "source": [
    "from Prob_Matrix import ProbabilityMatrix\n",
    "from Prob_Vector import ProbabilityVector\n",
    "from compute_score import HiddenMarkovChain\n",
    "from compute_score import HiddenMarkovChain_Simulation.run"
   ]
  },
  {
   "cell_type": "code",
   "execution_count": 10,
   "metadata": {},
   "outputs": [
    {
     "ename": "NameError",
     "evalue": "name 'hmc_s' is not defined",
     "output_type": "error",
     "traceback": [
      "\u001b[0;31m---------------------------------------------------------------------------\u001b[0m",
      "\u001b[0;31mNameError\u001b[0m                                 Traceback (most recent call last)",
      "Cell \u001b[0;32mIn[10], line 4\u001b[0m\n\u001b[1;32m      1\u001b[0m np\u001b[39m.\u001b[39mrandom\u001b[39m.\u001b[39mseed(\u001b[39m42\u001b[39m)\n\u001b[1;32m      2\u001b[0m hmc \u001b[39m=\u001b[39m HiddenMarkovChain_Uncover(A, B, pi)\n\u001b[0;32m----> 4\u001b[0m observed_sequence, latent_sequence \u001b[39m=\u001b[39m hmc_s\u001b[39m.\u001b[39mrun(\u001b[39m5\u001b[39m)\n\u001b[1;32m      5\u001b[0m uncovered_sequence \u001b[39m=\u001b[39m hmc\u001b[39m.\u001b[39muncover(observed_sequence)\n",
      "\u001b[0;31mNameError\u001b[0m: name 'hmc_s' is not defined"
     ]
    }
   ],
   "source": [
    "np.random.seed(42)\n",
    "hmc = HiddenMarkovChain_Uncover(A, B, pi)\n",
    "\n",
    "observed_sequence, latent_sequence = hmc_s.run(5)\n",
    "uncovered_sequence = hmc.uncover(observed_sequence)"
   ]
  }
 ],
 "metadata": {
  "kernelspec": {
   "display_name": "TensorFlow",
   "language": "python",
   "name": "python3"
  },
  "language_info": {
   "codemirror_mode": {
    "name": "ipython",
    "version": 3
   },
   "file_extension": ".py",
   "mimetype": "text/x-python",
   "name": "python",
   "nbconvert_exporter": "python",
   "pygments_lexer": "ipython3",
   "version": "3.10.8"
  },
  "orig_nbformat": 4,
  "vscode": {
   "interpreter": {
    "hash": "45c48fb264bba0529b917885aa2fdf54bfc5ac58ac8ea30a57d1df6ad7c47fba"
   }
  }
 },
 "nbformat": 4,
 "nbformat_minor": 2
}
