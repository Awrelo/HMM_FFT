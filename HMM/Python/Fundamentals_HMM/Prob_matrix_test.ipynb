{
 "cells": [
  {
   "cell_type": "code",
   "execution_count": 18,
   "metadata": {},
   "outputs": [],
   "source": [
    "from Prob_Vector import ProbabilityVector\n",
    "from Prob_Matrix import ProbabilityMatrix"
   ]
  },
  {
   "cell_type": "code",
   "execution_count": 7,
   "metadata": {},
   "outputs": [],
   "source": [
    "a1 = ProbabilityVector({'rain':0.7, 'sun': 0.3})\n",
    "a2 = ProbabilityVector({'rain': 0.6, 'sun':0.4})\n",
    "A = ProbabilityMatrix({'hot':a1, 'cold':a2})"
   ]
  },
  {
   "cell_type": "code",
   "execution_count": 3,
   "metadata": {},
   "outputs": [
    {
     "name": "stdout",
     "output_type": "stream",
     "text": [
      "PM (2, 2) states: -> obs: ['cold', 'hot'].\n"
     ]
    }
   ],
   "source": [
    "print(A)"
   ]
  },
  {
   "cell_type": "code",
   "execution_count": 4,
   "metadata": {},
   "outputs": [
    {
     "name": "stdout",
     "output_type": "stream",
     "text": [
      "      rain  sun\n",
      "cold   0.6  0.4\n",
      "hot    0.7  0.3\n"
     ]
    }
   ],
   "source": [
    "print(A.df)"
   ]
  },
  {
   "cell_type": "code",
   "execution_count": 11,
   "metadata": {},
   "outputs": [],
   "source": [
    "b1 = ProbabilityVector({'0S': 0.1, '1M': 0.4, '2L':0.5})\n",
    "b2 = ProbabilityVector({'0S': 0.7, '1M': 0.2, '2l':0.1})\n",
    "# B = ProbabilityMatrix({'0H':b1, '1C':b2})"
   ]
  },
  {
   "cell_type": "code",
   "execution_count": 13,
   "metadata": {},
   "outputs": [],
   "source": [
    "# print(B)"
   ]
  },
  {
   "cell_type": "code",
   "execution_count": 15,
   "metadata": {},
   "outputs": [],
   "source": [
    "P = ProbabilityMatrix.initialize(list('abcd'), list('xyz'))"
   ]
  },
  {
   "cell_type": "code",
   "execution_count": 16,
   "metadata": {},
   "outputs": [
    {
     "ename": "NameError",
     "evalue": "name 'ProbabilityMatrix' is not defined",
     "output_type": "error",
     "traceback": [
      "\u001b[0;31m---------------------------------------------------------------------------\u001b[0m",
      "\u001b[0;31mNameError\u001b[0m                                 Traceback (most recent call last)",
      "Cell \u001b[0;32mIn[16], line 1\u001b[0m\n\u001b[0;32m----> 1\u001b[0m \u001b[39mprint\u001b[39m(\u001b[39m'\u001b[39m\u001b[39mDot Product:\u001b[39m\u001b[39m'\u001b[39m, a1 \u001b[39m@\u001b[39;49m A)\n",
      "File \u001b[0;32m~/Documents/HMM_FFT/HMM/Python/Fundamentals_HMM/Prob_Vector.py:84\u001b[0m, in \u001b[0;36mProbabilityVector.__matmul__\u001b[0;34m(self, other)\u001b[0m\n\u001b[1;32m     83\u001b[0m \u001b[39mdef\u001b[39;00m \u001b[39m__matmul__\u001b[39m(\u001b[39mself\u001b[39m, other) \u001b[39m-\u001b[39m\u001b[39m>\u001b[39m np\u001b[39m.\u001b[39mndarray:\n\u001b[0;32m---> 84\u001b[0m     \u001b[39mif\u001b[39;00m \u001b[39misinstance\u001b[39m(other, ProbabilityMatrix):\n\u001b[1;32m     85\u001b[0m         \u001b[39mreturn\u001b[39;00m \u001b[39mself\u001b[39m\u001b[39m.\u001b[39mvalues \u001b[39m@\u001b[39m other\u001b[39m.\u001b[39mvalues\n",
      "\u001b[0;31mNameError\u001b[0m: name 'ProbabilityMatrix' is not defined"
     ]
    }
   ],
   "source": [
    "print('Dot Product:', a1 @ A)"
   ]
  }
 ],
 "metadata": {
  "kernelspec": {
   "display_name": "TensorFlow",
   "language": "python",
   "name": "python3"
  },
  "language_info": {
   "codemirror_mode": {
    "name": "ipython",
    "version": 3
   },
   "file_extension": ".py",
   "mimetype": "text/x-python",
   "name": "python",
   "nbconvert_exporter": "python",
   "pygments_lexer": "ipython3",
   "version": "3.10.8"
  },
  "orig_nbformat": 4,
  "vscode": {
   "interpreter": {
    "hash": "45c48fb264bba0529b917885aa2fdf54bfc5ac58ac8ea30a57d1df6ad7c47fba"
   }
  }
 },
 "nbformat": 4,
 "nbformat_minor": 2
}
