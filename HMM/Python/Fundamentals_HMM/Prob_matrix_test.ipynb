{
 "cells": [
  {
   "cell_type": "code",
   "execution_count": 1,
   "metadata": {},
   "outputs": [],
   "source": [
    "from Prob_Vector import ProbabilityVector\n",
    "from Prob_Matrix import ProbabilityMatrix"
   ]
  },
  {
   "cell_type": "code",
   "execution_count": 2,
   "metadata": {},
   "outputs": [],
   "source": [
    "a1 = ProbabilityVector({'rain':0.7, 'sun': 0.3})\n",
    "a2 = ProbabilityVector({'rain': 0.6, 'sun':0.4})\n",
    "A = ProbabilityMatrix({'hot':a1, 'cold':a2})"
   ]
  },
  {
   "cell_type": "code",
   "execution_count": 3,
   "metadata": {},
   "outputs": [
    {
     "name": "stdout",
     "output_type": "stream",
     "text": [
      "PM (2, 2) states ['cold', 'hot']: -> obs: ['rain', 'sun'].\n"
     ]
    }
   ],
   "source": [
    "print(A)"
   ]
  },
  {
   "cell_type": "code",
   "execution_count": 4,
   "metadata": {},
   "outputs": [
    {
     "name": "stdout",
     "output_type": "stream",
     "text": [
      "      rain  sun\n",
      "cold   0.6  0.4\n",
      "hot    0.7  0.3\n"
     ]
    }
   ],
   "source": [
    "print(A.df)"
   ]
  },
  {
   "cell_type": "code",
   "execution_count": 5,
   "metadata": {},
   "outputs": [],
   "source": [
    "b1 = ProbabilityVector({'0S': 0.1, '1M': 0.4, '2L':0.5})\n",
    "b2 = ProbabilityVector({'0S': 0.7, '1M': 0.2, '2L':0.1})\n",
    "B =  ProbabilityMatrix({'0H': b1, '1C': b2})"
   ]
  },
  {
   "cell_type": "code",
   "execution_count": 6,
   "metadata": {},
   "outputs": [
    {
     "name": "stdout",
     "output_type": "stream",
     "text": [
      "PM (2, 3) states ['0H', '1C']: -> obs: ['0S', '1M', '2L'].\n"
     ]
    }
   ],
   "source": [
    "print(B)"
   ]
  },
  {
   "cell_type": "code",
   "execution_count": 7,
   "metadata": {},
   "outputs": [
    {
     "ename": "NameError",
     "evalue": "name 'ProbabilityVector' is not defined",
     "output_type": "error",
     "traceback": [
      "\u001b[0;31m---------------------------------------------------------------------------\u001b[0m",
      "\u001b[0;31mNameError\u001b[0m                                 Traceback (most recent call last)",
      "Cell \u001b[0;32mIn[7], line 1\u001b[0m\n\u001b[0;32m----> 1\u001b[0m P \u001b[39m=\u001b[39m ProbabilityMatrix\u001b[39m.\u001b[39;49minitialize(\u001b[39mlist\u001b[39;49m(\u001b[39m'\u001b[39;49m\u001b[39mabcd\u001b[39;49m\u001b[39m'\u001b[39;49m), \u001b[39mlist\u001b[39;49m(\u001b[39m'\u001b[39;49m\u001b[39mxyz\u001b[39;49m\u001b[39m'\u001b[39;49m))\n\u001b[1;32m      2\u001b[0m \u001b[39mprint\u001b[39m(\u001b[39m'\u001b[39m\u001b[39mDot Product:\u001b[39m\u001b[39m'\u001b[39m, a1 \u001b[39m@\u001b[39m A)\n",
      "File \u001b[0;32m~/Documents/HMM_FFT/HMM/Python/Fundamentals_HMM/Prob_Matrix.py:24\u001b[0m, in \u001b[0;36mProbabilityMatrix.initialize\u001b[0;34m(cls, states, observables)\u001b[0m\n\u001b[1;32m     22\u001b[0m rand \u001b[39m/\u001b[39m\u001b[39m=\u001b[39m rand\u001b[39m.\u001b[39msum(axis\u001b[39m=\u001b[39m\u001b[39m1\u001b[39m)\u001b[39m.\u001b[39mreshape(\u001b[39m-\u001b[39m\u001b[39m1\u001b[39m,\u001b[39m1\u001b[39m)\n\u001b[1;32m     23\u001b[0m aggr \u001b[39m=\u001b[39m [\u001b[39mdict\u001b[39m(\u001b[39mzip\u001b[39m(observables, rand[i,:])) \u001b[39mfor\u001b[39;00m i \u001b[39min\u001b[39;00m \u001b[39mrange\u001b[39m(\u001b[39mlen\u001b[39m(states))]\n\u001b[0;32m---> 24\u001b[0m pvec \u001b[39m=\u001b[39m [ProbabilityVector(x) \u001b[39mfor\u001b[39;00m x \u001b[39min\u001b[39;00m aggr]\n\u001b[1;32m     25\u001b[0m \u001b[39mreturn\u001b[39;00m \u001b[39mcls\u001b[39m(\u001b[39mdict\u001b[39m(\u001b[39mzip\u001b[39m(states, pvec)))\n",
      "File \u001b[0;32m~/Documents/HMM_FFT/HMM/Python/Fundamentals_HMM/Prob_Matrix.py:24\u001b[0m, in \u001b[0;36m<listcomp>\u001b[0;34m(.0)\u001b[0m\n\u001b[1;32m     22\u001b[0m rand \u001b[39m/\u001b[39m\u001b[39m=\u001b[39m rand\u001b[39m.\u001b[39msum(axis\u001b[39m=\u001b[39m\u001b[39m1\u001b[39m)\u001b[39m.\u001b[39mreshape(\u001b[39m-\u001b[39m\u001b[39m1\u001b[39m,\u001b[39m1\u001b[39m)\n\u001b[1;32m     23\u001b[0m aggr \u001b[39m=\u001b[39m [\u001b[39mdict\u001b[39m(\u001b[39mzip\u001b[39m(observables, rand[i,:])) \u001b[39mfor\u001b[39;00m i \u001b[39min\u001b[39;00m \u001b[39mrange\u001b[39m(\u001b[39mlen\u001b[39m(states))]\n\u001b[0;32m---> 24\u001b[0m pvec \u001b[39m=\u001b[39m [ProbabilityVector(x) \u001b[39mfor\u001b[39;00m x \u001b[39min\u001b[39;00m aggr]\n\u001b[1;32m     25\u001b[0m \u001b[39mreturn\u001b[39;00m \u001b[39mcls\u001b[39m(\u001b[39mdict\u001b[39m(\u001b[39mzip\u001b[39m(states, pvec)))\n",
      "\u001b[0;31mNameError\u001b[0m: name 'ProbabilityVector' is not defined"
     ]
    }
   ],
   "source": [
    "P = ProbabilityMatrix.initialize(list('abcd'), list('xyz'))\n",
    "print('Dot Product:', a1 @ A)"
   ]
  }
 ],
 "metadata": {
  "kernelspec": {
   "display_name": "TensorFlow",
   "language": "python",
   "name": "python3"
  },
  "language_info": {
   "codemirror_mode": {
    "name": "ipython",
    "version": 3
   },
   "file_extension": ".py",
   "mimetype": "text/x-python",
   "name": "python",
   "nbconvert_exporter": "python",
   "pygments_lexer": "ipython3",
   "version": "3.10.8"
  },
  "orig_nbformat": 4,
  "vscode": {
   "interpreter": {
    "hash": "45c48fb264bba0529b917885aa2fdf54bfc5ac58ac8ea30a57d1df6ad7c47fba"
   }
  }
 },
 "nbformat": 4,
 "nbformat_minor": 2
}
