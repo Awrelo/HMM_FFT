{
 "cells": [
  {
   "cell_type": "markdown",
   "metadata": {},
   "source": [
    "# Dynamic Time Warping"
   ]
  },
  {
   "cell_type": "markdown",
   "metadata": {},
   "source": [
    "Copyright (c) 2021 Herman Kamper, [CC BY-SA 4.0](http://creativecommons.org/licenses/by-sa/4.0/)"
   ]
  },
  {
   "cell_type": "markdown",
   "metadata": {},
   "source": [
    "## Motivation"
   ]
  },
  {
   "cell_type": "markdown",
   "metadata": {},
   "source": [
    "![](fig/Two_repetitions_of_a_walking_sequence_of_an_individual_recorded_using_a_motion-capture_system.gif)\n",
    "\n",
    "Figure source: [link](https://en.wikipedia.org/wiki/File:Two_repetitions_of_a_walking_sequence_of_an_individual_recorded_using_a_motion-capture_system.gif)."
   ]
  },
  {
   "cell_type": "markdown",
   "metadata": {},
   "source": [
    "## Preliminaries"
   ]
  },
  {
   "cell_type": "code",
   "execution_count": null,
   "metadata": {},
   "outputs": [],
   "source": [
    "from matplotlib.patches import ConnectionPatch\n",
    "import matplotlib.pyplot as plt\n",
    "import numpy as np\n",
    "import scipy.spatial.distance as dist"
   ]
  },
  {
   "cell_type": "markdown",
   "metadata": {},
   "source": [
    "## Dynamic programming function"
   ]
  },
  {
   "cell_type": "code",
   "execution_count": null,
   "metadata": {},
   "outputs": [],
   "source": [
    "def dp(dist_mat):\n",
    "    \"\"\"\n",
    "    Find minimum-cost path through matrix `dist_mat` using dynamic programming.\n",
    "\n",
    "    The cost of a path is defined as the sum of the matrix entries on that\n",
    "    path. See the following for details of the algorithm:\n",
    "\n",
    "    - http://en.wikipedia.org/wiki/Dynamic_time_warping\n",
    "    - https://www.ee.columbia.edu/~dpwe/resources/matlab/dtw/dp.m\n",
    "\n",
    "    The notation in the first reference was followed, while Dan Ellis's code\n",
    "    (second reference) was used to check for correctness. Returns a list of\n",
    "    path indices and the cost matrix.\n",
    "    \"\"\"\n",
    "\n",
    "    N, M = dist_mat.shape\n",
    "    \n",
    "    # Initialize the cost matrix\n",
    "    cost_mat = np.zeros((N + 1, M + 1))\n",
    "    for i in range(1, N + 1):\n",
    "        cost_mat[i, 0] = np.inf\n",
    "    for i in range(1, M + 1):\n",
    "        cost_mat[0, i] = np.inf\n",
    "\n",
    "    # Fill the cost matrix while keeping traceback information\n",
    "    traceback_mat = np.zeros((N, M))\n",
    "    for i in range(N):\n",
    "        for j in range(M):\n",
    "            penalty = [\n",
    "                cost_mat[i, j],      # match (0)\n",
    "                cost_mat[i, j + 1],  # insertion (1)\n",
    "                cost_mat[i + 1, j]]  # deletion (2)\n",
    "            i_penalty = np.argmin(penalty)\n",
    "            cost_mat[i + 1, j + 1] = dist_mat[i, j] + penalty[i_penalty]\n",
    "            traceback_mat[i, j] = i_penalty\n",
    "\n",
    "    # Traceback from bottom right\n",
    "    i = N - 1\n",
    "    j = M - 1\n",
    "    path = [(i, j)]\n",
    "    while i > 0 or j > 0:\n",
    "        tb_type = traceback_mat[i, j]\n",
    "        if tb_type == 0:\n",
    "            # Match\n",
    "            i = i - 1\n",
    "            j = j - 1\n",
    "        elif tb_type == 1:\n",
    "            # Insertion\n",
    "            i = i - 1\n",
    "        elif tb_type == 2:\n",
    "            # Deletion\n",
    "            j = j - 1\n",
    "        path.append((i, j))\n",
    "\n",
    "    # Strip infinity edges from cost_mat before returning\n",
    "    cost_mat = cost_mat[1:, 1:]\n",
    "    return (path[::-1], cost_mat)"
   ]
  },
  {
   "cell_type": "markdown",
   "metadata": {},
   "source": [
    "## Univariate examples"
   ]
  },
  {
   "cell_type": "markdown",
   "metadata": {},
   "source": [
    "### Example 1"
   ]
  },
  {
   "cell_type": "code",
   "execution_count": null,
   "metadata": {},
   "outputs": [],
   "source": [
    "x = np.array([0, 0, 1, 1, 0, 0, -1, 0, 0, 0, 0])\n",
    "y = np.array([0, 0, 0, 0, 1, 1, 0, 0, 0, -1, -0.5, 0, 0])\n",
    "\n",
    "plt.figure(figsize=(6, 4))\n",
    "plt.plot(np.arange(x.shape[0]), x + 1.5, \"-o\", c=\"C3\")\n",
    "plt.plot(np.arange(y.shape[0]), y - 1.5, \"-o\", c=\"C0\")\n",
    "plt.axis(\"off\")\n",
    "plt.savefig(\"fig/signals_a_b.pdf\")"
   ]
  },
  {
   "cell_type": "code",
   "execution_count": null,
   "metadata": {},
   "outputs": [],
   "source": [
    "# Distance matrix\n",
    "N = x.shape[0]\n",
    "M = y.shape[0]\n",
    "dist_mat = np.zeros((N, M))\n",
    "for i in range(N):\n",
    "    for j in range(M):\n",
    "        dist_mat[i, j] = abs(x[i] - y[j])"
   ]
  },
  {
   "cell_type": "code",
   "execution_count": null,
   "metadata": {},
   "outputs": [],
   "source": [
    "# DTW\n",
    "path, cost_mat = dp(dist_mat)\n",
    "print(\"Alignment cost: {:.4f}\".format(cost_mat[N - 1, M - 1]))\n",
    "print(\"Normalized alignment cost: {:.4f}\".format(cost_mat[N - 1, M - 1]/(N + M)))\n",
    "\n",
    "plt.figure(figsize=(6, 4))\n",
    "plt.subplot(121)\n",
    "plt.title(\"Distance matrix\")\n",
    "plt.imshow(dist_mat, cmap=plt.cm.binary, interpolation=\"nearest\", origin=\"lower\")\n",
    "plt.subplot(122)\n",
    "plt.title(\"Cost matrix\")\n",
    "plt.imshow(cost_mat, cmap=plt.cm.binary, interpolation=\"nearest\", origin=\"lower\")\n",
    "x_path, y_path = zip(*path)\n",
    "plt.plot(y_path, x_path);"
   ]
  },
  {
   "cell_type": "code",
   "execution_count": null,
   "metadata": {},
   "outputs": [],
   "source": [
    "plt.figure()\n",
    "for x_i, y_j in path:\n",
    "    plt.plot([x_i, y_j], [x[x_i] + 1.5, y[y_j] - 1.5], c=\"C7\")\n",
    "plt.plot(np.arange(x.shape[0]), x + 1.5, \"-o\", c=\"C3\")\n",
    "plt.plot(np.arange(y.shape[0]), y - 1.5, \"-o\", c=\"C0\")\n",
    "plt.axis(\"off\")\n",
    "plt.savefig(\"fig/signals_a_b_align.pdf\")"
   ]
  },
  {
   "cell_type": "code",
   "execution_count": null,
   "metadata": {},
   "outputs": [],
   "source": [
    "a = np.array([0, 0, 1, 1, 0, 0, -1, 0, 0, 0, 0])\n",
    "b = np.array([0, 0, 0, 0, 1, 1, 0, 0, 0, -1, -0.5, 0, 0])\n",
    "c = np.array([0, 0, 0, -1, -1, 0, 0, 0, 0.5, 0, 0, 0, 0])\n",
    "d = np.array([0, 0, 0.25, 1, 0, 0.5, 0])\n",
    "\n",
    "fig = plt.figure(figsize=(12, 8))\n",
    "ax1 = fig.add_subplot(323)\n",
    "ax2 = fig.add_subplot(322)\n",
    "ax3 = fig.add_subplot(324)\n",
    "ax4 = fig.add_subplot(326)\n",
    "# fig = plt.figure(figsize=(6, 8))\n",
    "ax1.plot(np.arange(a.shape[0]), a, \"-o\", c=\"C0\")\n",
    "ax2.plot(np.arange(c.shape[0]), c, \"-o\", c=\"C1\")\n",
    "ax3.plot(np.arange(d.shape[0]), d, \"-o\", c=\"C2\")\n",
    "ax4.plot(np.arange(b.shape[0]), b, \"-o\", c=\"C3\")\n",
    "for ax in [ax1, ax2, ax3, ax4]:\n",
    "    ax.axis(\"off\")\n",
    "    ax.set_xlim([-0.5, 13.5])\n",
    "    ax.set_ylim([-1.05, 1.05])\n",
    "plt.savefig(\"fig/dtw_knn.pdf\")\n",
    "    \n",
    "for cur_b in [c, d, b]:\n",
    "\n",
    "    # Distance matrix\n",
    "    N = a.shape[0]\n",
    "    M = cur_b.shape[0]\n",
    "    dist_mat = np.zeros((N, M))\n",
    "    for i in range(N):\n",
    "        for j in range(M):\n",
    "    #         print(a[i], b[j], abs(a[i] - b[j]))\n",
    "            dist_mat[i, j] = abs(a[i] - cur_b[j])\n",
    "\n",
    "    # DTW\n",
    "    path, cost_mat = dp(dist_mat)\n",
    "    print(\"Alignment cost: {:.4f}\".format(cost_mat[N - 1, M - 1]))\n",
    "    print(\"Normalized alignment cost: {:.4f}\".format(cost_mat[N - 1, M - 1]/(N + M)))\n",
    "    print()"
   ]
  },
  {
   "cell_type": "markdown",
   "metadata": {},
   "source": [
    "### Example 2"
   ]
  },
  {
   "cell_type": "code",
   "execution_count": null,
   "metadata": {},
   "outputs": [],
   "source": [
    "x = np.array([0, 2, 0, 1, 0, 0])\n",
    "y = np.array([0, 0, 0.5, 2, 0, 1, 0])\n",
    "\n",
    "plt.figure(figsize=(6, 4))\n",
    "plt.plot(np.arange(x.shape[0]) + 1, x + 1.5, \"-o\", c=\"C3\")\n",
    "plt.plot(np.arange(y.shape[0]) + 1, y - 1.5, \"-o\", c=\"C0\")\n",
    "plt.axis(\"off\")\n",
    "plt.savefig(\"fig/signals_a_b_ex2.pdf\")"
   ]
  },
  {
   "cell_type": "code",
   "execution_count": null,
   "metadata": {},
   "outputs": [],
   "source": [
    "# Distance matrix\n",
    "N = x.shape[0]\n",
    "M = y.shape[0]\n",
    "dist_mat = np.zeros((N, M))\n",
    "for i in range(N):\n",
    "    for j in range(M):\n",
    "        dist_mat[i, j] = abs(x[i] - y[j])\n",
    "\n",
    "# DTW\n",
    "path, cost_mat = dp(dist_mat)\n",
    "\n",
    "# Plot alignment\n",
    "plt.figure(figsize=(6, 4))\n",
    "for x_i, y_j in path:\n",
    "    plt.plot([x_i, y_j], [x[x_i] + 1.5, y[y_j] - 1.5], c=\"C7\")\n",
    "plt.plot(np.arange(x.shape[0]), x + 1.5, \"-o\", c=\"C3\")\n",
    "plt.plot(np.arange(y.shape[0]), y - 1.5, \"-o\", c=\"C0\")\n",
    "plt.axis(\"off\");"
   ]
  },
  {
   "cell_type": "code",
   "execution_count": null,
   "metadata": {},
   "outputs": [],
   "source": [
    "plt.figure(figsize=(6, 4))\n",
    "plt.imshow(cost_mat, cmap=plt.cm.binary, interpolation=\"nearest\", origin=\"lower\")\n",
    "x_path, y_path = zip(*path)\n",
    "plt.plot(y_path, x_path)\n",
    "plt.xlabel(\"$j$\")\n",
    "plt.ylabel(\"$i$\");"
   ]
  },
  {
   "cell_type": "markdown",
   "metadata": {},
   "source": [
    "### Example 3"
   ]
  },
  {
   "cell_type": "code",
   "execution_count": null,
   "metadata": {},
   "outputs": [],
   "source": [
    "x = np.array([0, 0, 1, 1, 0, 0, -1, 0, 0, 0, 0])\n",
    "y = np.array([0, 0, 0, 1, 1, 0, 0, 0, 0.5, 0, 0, 0, 0])\n",
    "\n",
    "plt.figure(figsize=(6, 4))\n",
    "plt.plot(np.arange(x.shape[0]), x + 1.5, \"-o\", c=\"C3\")\n",
    "plt.plot(np.arange(y.shape[0]), y - 1.5, \"-o\", c=\"C0\")\n",
    "plt.axis(\"off\")\n",
    "plt.savefig(\"fig/signals_a_b.pdf\")"
   ]
  },
  {
   "cell_type": "code",
   "execution_count": null,
   "metadata": {},
   "outputs": [],
   "source": [
    "# Distance matrix\n",
    "N = x.shape[0]\n",
    "M = y.shape[0]\n",
    "dist_mat = np.zeros((N, M))\n",
    "for i in range(N):\n",
    "    for j in range(M):\n",
    "        dist_mat[i, j] = abs(x[i] - y[j])\n",
    "\n",
    "# DTW\n",
    "path, cost_mat = dp(dist_mat)\n",
    "print(\"Alignment cost: {:.4f}\".format(cost_mat[N - 1, M - 1]))\n",
    "print(\"Normalized alignment cost: {:.4f}\".format(cost_mat[N - 1, M - 1]/(N + M)))\n",
    "\n",
    "# Plot alignment\n",
    "plt.figure(figsize=(6, 4))\n",
    "for x_i, y_j in path:\n",
    "    plt.plot([x_i, y_j], [x[x_i] + 1.5, y[y_j] - 1.5], c=\"C7\")\n",
    "plt.plot(np.arange(x.shape[0]), x + 1.5, \"-o\", c=\"C3\")\n",
    "plt.plot(np.arange(y.shape[0]), y - 1.5, \"-o\", c=\"C0\")\n",
    "plt.axis(\"off\");"
   ]
  },
  {
   "cell_type": "markdown",
   "metadata": {},
   "source": [
    "## Multivariate examples"
   ]
  },
  {
   "cell_type": "code",
   "execution_count": null,
   "metadata": {},
   "outputs": [],
   "source": [
    "from scipy.io import wavfile\n",
    "import IPython.display as ipyd\n",
    "import librosa\n",
    "import librosa.display"
   ]
  },
  {
   "cell_type": "code",
   "execution_count": null,
   "metadata": {},
   "outputs": [],
   "source": [
    "# x_fn = \"audio/hello1.wav\"\n",
    "# x_fn = \"audio/hello2.wav\"\n",
    "x_fn = \"audio/goodbye.wav\"\n",
    "f_s, x = wavfile.read(x_fn)\n",
    "ipyd.Audio(rate=f_s, data=x)"
   ]
  },
  {
   "cell_type": "code",
   "execution_count": null,
   "metadata": {},
   "outputs": [],
   "source": [
    "# y_fn = \"audio/hello3.wav\"\n",
    "y_fn = \"audio/bye.wav\"\n",
    "f_s, y = wavfile.read(y_fn)\n",
    "ipyd.Audio(rate=f_s, data=y)"
   ]
  },
  {
   "cell_type": "code",
   "execution_count": null,
   "metadata": {},
   "outputs": [],
   "source": [
    "# Mel-scale spectrogram\n",
    "n_fft = int(0.025*f_s)      # 25 ms\n",
    "hop_length = int(0.01*f_s)  # 10 ms\n",
    "mel_spec_x = librosa.feature.melspectrogram(\n",
    "    x/1.0, sr=f_s, n_mels=40,\n",
    "    n_fft=n_fft, hop_length=hop_length\n",
    "    )\n",
    "log_mel_spec_x = np.log(mel_spec_x)\n",
    "\n",
    "# Plot log-Mel spectrogram\n",
    "fig, ax = plt.subplots(figsize=(9, 5))\n",
    "ax.imshow(log_mel_spec_x, origin=\"lower\", interpolation=\"nearest\");\n",
    "plt.ylabel(\"Feature dimensions\")\n",
    "plt.xlabel(\"Frames\");"
   ]
  },
  {
   "cell_type": "code",
   "execution_count": null,
   "metadata": {},
   "outputs": [],
   "source": [
    "# Mel-scale spectrogram\n",
    "mel_spec_y = librosa.feature.melspectrogram(\n",
    "    y/1.0, sr=f_s, n_mels=40,\n",
    "    n_fft=n_fft, hop_length=hop_length\n",
    "    )\n",
    "log_mel_spec_y = np.log(mel_spec_y)\n",
    "\n",
    "# Plot log-Mel spectrogram\n",
    "fig, ax = plt.subplots(figsize=(9, 5))\n",
    "ax.imshow(log_mel_spec_y, origin=\"lower\", interpolation=\"nearest\");\n",
    "plt.ylabel(\"Feature dimensions\")\n",
    "plt.xlabel(\"Frames\");"
   ]
  },
  {
   "cell_type": "code",
   "execution_count": null,
   "metadata": {},
   "outputs": [],
   "source": [
    "x_seq = log_mel_spec_x.T\n",
    "y_seq = log_mel_spec_y.T\n",
    "\n",
    "dist_mat = dist.cdist(x_seq, y_seq, \"cosine\")\n",
    "path, cost_mat = dp(dist_mat)\n",
    "print(\"Alignment cost: {:.4f}\".format(cost_mat[-1, -1]))"
   ]
  },
  {
   "cell_type": "code",
   "execution_count": null,
   "metadata": {},
   "outputs": [],
   "source": [
    "fig = plt.figure(figsize=(9, 10))\n",
    "ax1 = fig.add_subplot(311)\n",
    "ax2 = fig.add_subplot(313)\n",
    "\n",
    "ax1.imshow(log_mel_spec_x, origin=\"lower\", interpolation=\"nearest\")\n",
    "ax2.imshow(log_mel_spec_y, origin=\"lower\", interpolation=\"nearest\")\n",
    "ax1.axis(\"off\")\n",
    "ax2.axis(\"off\")\n",
    "\n",
    "for x_i, y_j in path:\n",
    "    con = ConnectionPatch(\n",
    "        xyA=(x_i, 0), xyB=(y_j, log_mel_spec_y.shape[0] - 1), coordsA=\"data\", coordsB=\"data\",\n",
    "        axesA=ax1, axesB=ax2, color=\"C7\"\n",
    "        )\n",
    "    ax2.add_artist(con)"
   ]
  },
  {
   "cell_type": "code",
   "execution_count": null,
   "metadata": {},
   "outputs": [],
   "source": [
    "plt.figure(figsize=(9, 5))\n",
    "plt.subplot(121)\n",
    "plt.title(\"Distance matrix\")\n",
    "plt.imshow(dist_mat, cmap=plt.cm.binary, interpolation=\"nearest\", origin=\"lower\")\n",
    "plt.subplot(122)\n",
    "plt.title(\"Cost matrix\")\n",
    "plt.imshow(cost_mat, cmap=plt.cm.binary, interpolation=\"nearest\", origin=\"lower\")\n",
    "x_path, y_path = zip(*path)\n",
    "plt.plot(y_path, x_path);"
   ]
  },
  {
   "cell_type": "markdown",
   "metadata": {},
   "source": [
    "### Nearest neighbour"
   ]
  },
  {
   "cell_type": "code",
   "execution_count": null,
   "metadata": {},
   "outputs": [],
   "source": [
    "# Audio\n",
    "query_fn = \"audio/hello1.wav\"\n",
    "f_s, x = wavfile.read(query_fn)\n",
    "\n",
    "# Mel-scale spectrogram\n",
    "mel_spec_x = librosa.feature.melspectrogram(\n",
    "    x/1.0, sr=f_s, n_mels=40,\n",
    "    n_fft=n_fft, hop_length=hop_length\n",
    "    )\n",
    "log_mel_spec_x = np.log(mel_spec_x)\n",
    "x_seq = log_mel_spec_x.T\n",
    "\n",
    "ipyd.Audio(rate=f_s, data=x)"
   ]
  },
  {
   "cell_type": "code",
   "execution_count": null,
   "metadata": {},
   "outputs": [],
   "source": [
    "audio_files = [\n",
    "    \"audio/hello2.wav\", \"audio/hello3.wav\",\n",
    "    \"audio/bye.wav\", \"audio/cat.wav\", \"audio/goodbye.wav\"\n",
    "    ]\n",
    "for neighbour_fn in audio_files:\n",
    "    \n",
    "    # Mel-scale spectrogram\n",
    "    print(\"Reading:\", neighbour_fn)\n",
    "    f_s, y = wavfile.read(neighbour_fn)\n",
    "    mel_spec_y = librosa.feature.melspectrogram(\n",
    "        y/1.0, sr=f_s, n_mels=40,\n",
    "        n_fft=n_fft, hop_length=hop_length\n",
    "        )\n",
    "    log_mel_spec_y = np.log(mel_spec_y)\n",
    "    y_seq = log_mel_spec_y.T\n",
    "\n",
    "    dist_mat = dist.cdist(x_seq, y_seq, \"cosine\")\n",
    "    path, cost_mat = dp(dist_mat)\n",
    "    print(\"Alignment cost: {:.4f}\".format(cost_mat[-1, -1]))\n",
    "    M = y_seq.shape[0]\n",
    "    N = x_seq.shape[0]\n",
    "    print(\n",
    "        \"Normalized alignment cost: {:.8f}\".format(\n",
    "        cost_mat[-1, -1]/(M + N))\n",
    "        )\n",
    "    print()"
   ]
  },
  {
   "cell_type": "code",
   "execution_count": null,
   "metadata": {},
   "outputs": [],
   "source": [
    "# Audio\n",
    "tmp_fn = \"audio/cat.wav\"\n",
    "f_s, tmp = wavfile.read(tmp_fn)\n",
    "ipyd.Audio(rate=f_s, data=tmp)"
   ]
  },
  {
   "cell_type": "code",
   "execution_count": null,
   "metadata": {},
   "outputs": [],
   "source": []
  }
 ],
 "metadata": {
  "kernelspec": {
   "display_name": "TensorFlow",
   "language": "python",
   "name": "python3"
  },
  "language_info": {
   "codemirror_mode": {
    "name": "ipython",
    "version": 3
   },
   "file_extension": ".py",
   "mimetype": "text/x-python",
   "name": "python",
   "nbconvert_exporter": "python",
   "pygments_lexer": "ipython3",
   "version": "3.10.8 (main, Nov 24 2022, 14:13:03) [GCC 11.2.0]"
  },
  "vscode": {
   "interpreter": {
    "hash": "45c48fb264bba0529b917885aa2fdf54bfc5ac58ac8ea30a57d1df6ad7c47fba"
   }
  }
 },
 "nbformat": 4,
 "nbformat_minor": 4
}
